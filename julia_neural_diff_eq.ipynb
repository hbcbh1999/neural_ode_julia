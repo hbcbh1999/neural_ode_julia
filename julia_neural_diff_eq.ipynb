{
 "cells": [
  {
   "cell_type": "code",
   "execution_count": 2,
   "metadata": {},
   "outputs": [
    {
     "data": {
      "text/html": [
       "<script>\n",
       "// Immediately-invoked-function-expression to avoid global variables.\n",
       "(function() {\n",
       "    var warning_div = document.getElementById(\"webio-warning-11847937101090429945\");\n",
       "    var hide = function () {\n",
       "        var script = document.getElementById(\"webio-setup-10292717684892861181\");\n",
       "        var parent = script && script.parentElement;\n",
       "        var grandparent = parent && parent.parentElement;\n",
       "        if (grandparent) {\n",
       "            grandparent.style.display = \"none\";\n",
       "        }\n",
       "        warning_div.style.display = \"none\";\n",
       "    };\n",
       "    if (typeof Jupyter !== \"undefined\") {\n",
       "        console.log(\"WebIO detected Jupyter notebook environment.\");\n",
       "        // Jupyter notebook.\n",
       "        var extensions = (\n",
       "            Jupyter\n",
       "            && Jupyter.notebook.config.data\n",
       "            && Jupyter.notebook.config.data.load_extensions\n",
       "        );\n",
       "        if (extensions && extensions[\"webio-jupyter-notebook\"]) {\n",
       "            // Extension already loaded.\n",
       "            console.log(\"Jupyter WebIO nbextension detected; not loading ad-hoc.\");\n",
       "            hide();\n",
       "            return;\n",
       "        }\n",
       "    } else if (window.location.pathname.includes(\"/lab\")) {\n",
       "        // Guessing JupyterLa\n",
       "        console.log(\"Jupyter Lab detected; make sure the @webio/jupyter-lab-provider labextension is installed.\");\n",
       "        hide();\n",
       "        return;\n",
       "    }\n",
       "})();\n",
       "\n",
       "</script>\n",
       "<p\n",
       "    id=\"webio-warning-11847937101090429945\"\n",
       "    class=\"output_text output_stderr\"\n",
       "    style=\"padding: 1em; font-weight: bold;\"\n",
       ">\n",
       "    Unable to load WebIO. Please make sure WebIO works for your Jupyter client.\n",
       "    For troubleshooting, please see <a href=\"https://juliagizmos.github.io/WebIO.jl/latest/providers/ijulia/\">\n",
       "    the WebIO/IJulia documentation</a>.\n",
       "    <!-- TODO: link to installation docs. -->\n",
       "</p>\n"
      ],
      "text/plain": [
       "HTML{String}(\"<script>\\n// Immediately-invoked-function-expression to avoid global variables.\\n(function() {\\n    var warning_div = document.getElementById(\\\"webio-warning-11847937101090429945\\\");\\n    var hide = function () {\\n        var script = document.getElementById(\\\"webio-setup-10292717684892861181\\\");\\n        var parent = script && script.parentElement;\\n        var grandparent = parent && parent.parentElement;\\n        if (grandparent) {\\n            grandparent.style.display = \\\"none\\\";\\n        }\\n        warning_div.style.display = \\\"none\\\";\\n    };\\n    if (typeof Jupyter !== \\\"undefined\\\") {\\n        console.log(\\\"WebIO detected Jupyter notebook environment.\\\");\\n        // Jupyter notebook.\\n        var extensions = (\\n            Jupyter\\n            && Jupyter.notebook.config.data\\n            && Jupyter.notebook.config.data.load_extensions\\n        );\\n        if (extensions && extensions[\\\"webio-jupyter-notebook\\\"]) {\\n            // Extension already loaded.\\n            console.log(\\\"Jupyter WebIO nbextension detected; not loading ad-hoc.\\\");\\n            hide();\\n            return;\\n        }\\n    } else if (window.location.pathname.includes(\\\"/lab\\\")) {\\n        // Guessing JupyterLa\\n        console.log(\\\"Jupyter Lab detected; make sure the @webio/jupyter-lab-provider labextension is installed.\\\");\\n        hide();\\n        return;\\n    }\\n})();\\n\\n</script>\\n<p\\n    id=\\\"webio-warning-11847937101090429945\\\"\\n    class=\\\"output_text output_stderr\\\"\\n    style=\\\"padding: 1em; font-weight: bold;\\\"\\n>\\n    Unable to load WebIO. Please make sure WebIO works for your Jupyter client.\\n    For troubleshooting, please see <a href=\\\"https://juliagizmos.github.io/WebIO.jl/latest/providers/ijulia/\\\">\\n    the WebIO/IJulia documentation</a>.\\n    <!-- TODO: link to installation docs. -->\\n</p>\\n\")"
      ]
     },
     "metadata": {},
     "output_type": "display_data"
    }
   ],
   "source": [
    "using Flux, DiffEqFlux, Plots, DifferentialEquations, Random, Optim, Interact\n",
    "Random.seed!(1);"
   ]
  },
  {
   "cell_type": "markdown",
   "metadata": {},
   "source": [
    "# Neural Differential Equations in Julia\n",
    "> Exploring the [Flux.jl](https://github.com/FluxML/Flux.jl) and [DiffEqFlux.jl](https://github.com/JuliaDiffEq/DiffEqFlux.jl) packages. \n"
   ]
  },
  {
   "cell_type": "markdown",
   "metadata": {},
   "source": [
    "## Warm-Up: Using Flux for Linear Regression\n",
    "\n",
    "[Flux](https://julialang.org/blog/2018/12/ml-language-compiler/): \"...typical frameworks are all-encompassing monoliths in hundreds of thousands of lines of C++, Flux is only a thousand lines of straightforward Julia code. Simply take one package for gradients (Zygote.jl), one package for GPU support (CuArrays.jl), sprinkle with some light convenience functions, bake for fifteen minutes and out pops a fully-featured ML stack.\"\n",
    "\n",
    "**Problem:** Given data $(x_i,y_i)_{i=0}^m$ we want to approximately solve the problem \n",
    "\n",
    "$$ \\min_{W,b} \\sum_{i=0}^m \\| W*x_i+b - y_i \\|_2^2. $$"
   ]
  },
  {
   "cell_type": "code",
   "execution_count": null,
   "metadata": {},
   "outputs": [],
   "source": [
    "# model\n",
    "W = rand(1)\n",
    "b = rand(1)\n",
    "\n",
    "# prediction\n",
    "pred(x) = W.*x .+ b\n",
    "\n",
    "# loss\n",
    "loss(x, y) = sum(abs2, (y .- pred(x)))\n",
    "\n",
    "# data\n",
    "samples = 30\n",
    "noise = 0.1\n",
    "\n",
    "x = rand(samples)\n",
    "y = rand(1).*x .+ rand(1) .+ noise.*rand(samples) \n",
    "\n",
    "# initial loss\n",
    "println(loss(x, y))\n",
    "\n",
    "# plot\n",
    "scatter(x, y, label=\"data\")\n",
    "dx = range(0, 1; length=100)\n",
    "# Note: mutating/in-place functions have names that end in !\n",
    "plot!(dx, pred(dx), label=\"prediction\")"
   ]
  },
  {
   "cell_type": "markdown",
   "metadata": {},
   "source": [
    "**Idea:** To improve the prediction we can take the gradients of W and b with respect to the loss and perform gradient descent.\n",
    "\n",
    "In contrast to TensorFlow or PyTorch in Python this is possible without tracing the operations in advance (Julia is just-in-time compiled, the *computational graph* is Julia’s own syntax)."
   ]
  },
  {
   "cell_type": "code",
   "execution_count": null,
   "metadata": {},
   "outputs": [],
   "source": [
    "# gradient steps\n",
    "steps = 100\n",
    "# learning rate\n",
    "lr = 0.01\n",
    "\n",
    "# gradient descent\n",
    "for i=1:steps\n",
    "  gs = gradient(() -> loss(x, y), params(W, b))\n",
    "  W .-= lr .* gs[W]\n",
    "  b .-= lr .* gs[b]\n",
    "  if i%20==0\n",
    "    println(\"Step: $i Loss: $(loss(x, y))\")\n",
    "  end\n",
    "end\n",
    "\n",
    "# plot\n",
    "scatter(x, y, label=\"data\")\n",
    "dx = range(0, 1; length=100)\n",
    "plot!(dx, pred(dx), label=\"prediction\")"
   ]
  },
  {
   "cell_type": "markdown",
   "metadata": {},
   "source": [
    "## Neural Differential Equations using DiffEqFlux\n",
    "\n",
    "[DiffEqFlux](https://julialang.org/blog/2019/01/fluxdiffeq/): \"Layers have traditionally been simple functions like matrix multiply, but in the spirit of differentiable programming people are increasingly experimenting with much more complex functions, such as ray tracers and physics engines. Turns out that differential equations solvers fit this framework, too.\"\n",
    "\n",
    "\n",
    "**Problem:** Given data $(t_i, u(t_i))_{i=0}^m$ of the solution to an *unkown* ODE\n",
    "\n",
    "$$ u'(t) = f(u), \\quad u(t_0) = u_0 $$\n",
    "\n",
    "**Goal:**  Train a neural network model $\\mathcal{N}_\\Phi$ (with learnable parameters $\\Phi$) to approximately recover $f$, i.e. learn the underlying ODE from data.\n",
    "\n",
    "**Idea:** Numerically solve the *neural* ODE \n",
    "\n",
    "$$ \\tilde{u}_\\Phi'(t) = \\mathcal{N}_{\\Phi}(\\tilde{u}_\\Phi), \\quad \\tilde{u}_\\Phi(t_0) = u_0 $$\n",
    "\n",
    "at times $(t_i)_{i=0}^t$ with a package that allows computing the gradient of the error \n",
    "$$\\sum_{i=0}^m \\big( \\tilde{u}_\\Phi(t_i)-u(t_i)\\big)^2$$\n",
    "\n",
    "w.r.t. to $\\Phi$ in order to perform first-order optimization. "
   ]
  },
  {
   "cell_type": "markdown",
   "metadata": {},
   "source": [
    "### Underlying (Unkown) Dynamics"
   ]
  },
  {
   "cell_type": "code",
   "execution_count": null,
   "metadata": {},
   "outputs": [],
   "source": [
    "# initial condition  Note: 2.0f0 = 2.0e0 for type Float32 instead of Float64\n",
    "u0 = Float32[2.0f0] \n",
    "\n",
    "# number of samples\n",
    "datasize = 100\n",
    "\n",
    "# time horizon,\n",
    "tspan = (0.0f0,15f0) \n",
    "\n",
    "# uniformly distributed points in tspan\n",
    "t = tspan[1] .+ rand(Float32, datasize)*(tspan[2]-tspan[1])\n",
    "\n",
    "# true du/dt\n",
    "f(u,p,t) = 2*sin.(u)\n",
    "\n",
    "# underlying true ODE]\n",
    "ode = ODEProblem(f, u0, tspan) \n",
    "\n",
    "# solution of the true ODE at time-points t\n",
    "sol = solve(ode, Tsit5(), saveat=t)\n",
    "\n",
    "# data\n",
    "t, u = sol.t, Array(sol)\n",
    "\n",
    "# plot the solution \n",
    "scatter(t, vcat(u...), label=\"data\")"
   ]
  },
  {
   "cell_type": "markdown",
   "metadata": {},
   "source": [
    "### Neural Network Model"
   ]
  },
  {
   "cell_type": "code",
   "execution_count": null,
   "metadata": {},
   "outputs": [],
   "source": [
    "# neural network model\n",
    "model = Chain(Dense(1,50,relu), Dense(50,100,relu), Dense(100,1))\n",
    "\n",
    "# ODE solver for the neural network model\n",
    "n_ode = NeuralODE(model, tspan, Tsit5(), saveat=t)\n",
    "\n",
    "# prediction for given initial condition\n",
    "ũ(Φ) = n_ode(u0,Φ)\n",
    "\n",
    "# plot of the data and the (untrained) neural ODE prediction\n",
    "scatter(t, vcat(u...), label=\"data\")\n",
    "scatter!(t, vcat(ũ(n_ode.p)...), label=\"prediction\") "
   ]
  },
  {
   "cell_type": "markdown",
   "metadata": {},
   "source": [
    "### Optimization"
   ]
  },
  {
   "cell_type": "code",
   "execution_count": null,
   "metadata": {},
   "outputs": [],
   "source": [
    "# loss \n",
    "function loss(Φ) \n",
    "    pred = ũ(Φ)\n",
    "    loss = sum(abs2, u .- pred)\n",
    "    loss, pred\n",
    "end\n",
    "\n",
    "# callback function to observe training\n",
    "cb = function (p, l, pred; doplot=false) \n",
    "  println(\"Loss: $l\")\n",
    "  if doplot\n",
    "    pl = scatter(t,vcat(u...),label=\"data\")\n",
    "    scatter!(pl,t,vcat(pred...),label=\"prediction\")\n",
    "    display(plot(pl))\n",
    "  end\n",
    "  return false\n",
    "end\n",
    "\n",
    "# optimize with ADAM\n",
    "res1 = DiffEqFlux.sciml_train(loss, n_ode.p, ADAM(0.01), cb=cb, maxiters=50)"
   ]
  },
  {
   "cell_type": "code",
   "execution_count": null,
   "metadata": {},
   "outputs": [],
   "source": [
    "# plot\n",
    "cb(res1.minimizer, loss(res1.minimizer)...;doplot=true);"
   ]
  },
  {
   "cell_type": "code",
   "execution_count": null,
   "metadata": {},
   "outputs": [],
   "source": [
    "# optimize with LBFGS\n",
    "res2 = DiffEqFlux.sciml_train(loss, res1.minimizer, LBFGS(), cb=cb)"
   ]
  },
  {
   "cell_type": "code",
   "execution_count": null,
   "metadata": {},
   "outputs": [],
   "source": [
    "# plot\n",
    "cb(res2.minimizer, loss(res2.minimizer)...;doplot=true);"
   ]
  },
  {
   "cell_type": "markdown",
   "metadata": {},
   "source": [
    "### Extrapolate"
   ]
  },
  {
   "cell_type": "code",
   "execution_count": null,
   "metadata": {},
   "outputs": [],
   "source": [
    "@manipulate for u0=0:0.2:4\n",
    "    u0 = Float32[u0] \n",
    "    ode = ODEProblem(f, u0, tspan) \n",
    "    u = Array(solve(ode, Tsit5(), saveat=t))\n",
    "    ũ = n_ode(u0,res2.minimizer)\n",
    "    pl = scatter(t,vcat(u...),label=\"data\")\n",
    "    scatter!(pl,t,vcat(ũ...),label=\"prediction\")\n",
    "    display(plot(pl))\n",
    "end"
   ]
  }
 ],
 "metadata": {
  "@webio": {
   "lastCommId": null,
   "lastKernelId": null
  },
  "kernelspec": {
   "display_name": "Julia 1.3.1",
   "language": "julia",
   "name": "julia-1.3"
  },
  "language_info": {
   "file_extension": ".jl",
   "mimetype": "application/julia",
   "name": "julia",
   "version": "1.3.1"
  }
 },
 "nbformat": 4,
 "nbformat_minor": 2
}
